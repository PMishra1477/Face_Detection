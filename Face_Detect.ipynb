{
 "cells": [
  {
   "cell_type": "code",
   "execution_count": null,
   "id": "352d338d-e2cf-4d61-bf32-55dddd14a717",
   "metadata": {},
   "outputs": [],
   "source": [
    "# Import necessary libraries\n",
    "import cv2\n",
    "import os\n",
    "import numpy as np\n",
    "import matplotlib.pyplot as plt\n",
    "%matplotlib inline\n",
    "\n"
   ]
  },
  {
   "cell_type": "code",
   "execution_count": null,
   "id": "55391d65-9246-4748-beb8-0637f98646ce",
   "metadata": {},
   "outputs": [],
   "source": [
    "# Function to detect face using OpenCV\n",
    "def detect_face(img):\n",
    "    gray = cv2.cvtColor(img, cv2.COLOR_BGR2GRAY)\n",
    "    face_cascade = cv2.CascadeClassifier(cv2.data.haarcascades + 'haarcascade_frontalface_default.xml')\n",
    "    faces = face_cascade.detectMultiScale(gray, scaleFactor=1.2, minNeighbors=5)\n",
    "    \n",
    "    if len(faces) == 0:\n",
    "        return None, None\n",
    "    \n",
    "    (x, y, w, h) = faces[0]\n",
    "    return gray[y:y+w, x:x+h], faces[0]\n",
    "\n"
   ]
  },
  {
   "cell_type": "code",
   "execution_count": null,
   "id": "91a486e3-2ae1-4402-936a-04a0891ed519",
   "metadata": {},
   "outputs": [],
   "source": [
    "# Function to prepare training data\n",
    "def prepare_training_data(data_folder_path):\n",
    "    dirs = os.listdir(data_folder_path)\n",
    "    faces = []\n",
    "    labels = []\n",
    "    \n",
    "    for dir_name in dirs:\n",
    "        if not dir_name.startswith(\"s\"):\n",
    "            continue\n",
    "        label = int(dir_name.replace(\"s\", \"\"))\n",
    "        subject_dir_path = os.path.join(data_folder_path, dir_name)\n",
    "        subject_images_names = os.listdir(subject_dir_path)\n",
    "        \n",
    "        for image_name in subject_images_names:\n",
    "            if image_name.startswith(\".\"):\n",
    "                continue\n",
    "            image_path = os.path.join(subject_dir_path, image_name)\n",
    "            image = cv2.imread(image_path)\n",
    "            face, rect = detect_face(image)\n",
    "            \n",
    "            if face is not None:\n",
    "                faces.append(face)\n",
    "                labels.append(label)\n",
    "    \n",
    "    return faces, labels\n"
   ]
  },
  {
   "cell_type": "code",
   "execution_count": null,
   "id": "224d14b2-532e-4b36-81bb-d755e6cdc09a",
   "metadata": {},
   "outputs": [],
   "source": [
    "\n",
    "# Prepare training data\n",
    "print(\"Preparing data...\")\n",
    "faces, labels = prepare_training_data(\"training-data\")\n",
    "\n"
   ]
  },
  {
   "cell_type": "code",
   "execution_count": null,
   "id": "4559f955-7609-4353-a9d2-9d1898bdd985",
   "metadata": {},
   "outputs": [],
   "source": [
    "# Initialize LBPH Face Recognizer\n",
    "face_recognizer = cv2.face.LBPHFaceRecognizer_create()\n",
    "\n"
   ]
  },
  {
   "cell_type": "code",
   "execution_count": null,
   "id": "1996e566-f863-47bb-9775-8f8025e8a01d",
   "metadata": {},
   "outputs": [],
   "source": [
    "# Train the face recognizer\n",
    "face_recognizer.train(faces, np.array(labels))\n",
    "print(\"Data prepared and face recognizer trained successfully.\")\n",
    "\n"
   ]
  },
  {
   "cell_type": "code",
   "execution_count": null,
   "id": "da3f5544-f230-4189-87f4-d79373b234ea",
   "metadata": {},
   "outputs": [],
   "source": [
    "# Function to draw rectangle around face\n",
    "def draw_rectangle(img, rect):\n",
    "    (x, y, w, h) = rect\n",
    "    cv2.rectangle(img, (x, y), (x+w, y+h), (0, 255, 0), 2)\n",
    "\n"
   ]
  },
  {
   "cell_type": "code",
   "execution_count": null,
   "id": "43c3297d-3470-4679-86a5-59725902b36e",
   "metadata": {},
   "outputs": [],
   "source": [
    "# Function to draw text on image\n",
    "def draw_text(img, text, x, y):\n",
    "    cv2.putText(img, text, (x, y), cv2.FONT_HERSHEY_PLAIN, 1.5, (0, 255, 0), 2)\n",
    "\n",
    "\n"
   ]
  },
  {
   "cell_type": "code",
   "execution_count": null,
   "id": "cc9a3a0a-3ce5-47d3-adb8-c2d52bfab328",
   "metadata": {},
   "outputs": [],
   "source": [
    "# Function to predict faces in test images\n",
    "def predict(test_img_path):\n",
    "    img = cv2.imread(test_img_path)\n",
    "    predicted_img = img.copy()\n",
    "    face, rect = detect_face(predicted_img)\n",
    "    label, confidence = face_recognizer.predict(face)\n",
    "    label_text = subjects[label]\n",
    "    \n",
    "    draw_rectangle(predicted_img, rect)\n",
    "    draw_text(predicted_img, label_text, rect[0], rect[1]-5)\n",
    "    return predicted_img\n",
    "\n"
   ]
  }
 ],
 "metadata": {
  "kernelspec": {
   "display_name": "Python 3 (ipykernel)",
   "language": "python",
   "name": "python3"
  },
  "language_info": {
   "codemirror_mode": {
    "name": "ipython",
    "version": 3
   },
   "file_extension": ".py",
   "mimetype": "text/x-python",
   "name": "python",
   "nbconvert_exporter": "python",
   "pygments_lexer": "ipython3",
   "version": "3.11.7"
  }
 },
 "nbformat": 4,
 "nbformat_minor": 5
}
